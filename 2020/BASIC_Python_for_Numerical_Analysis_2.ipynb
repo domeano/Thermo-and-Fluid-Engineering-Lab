{
  "nbformat": 4,
  "nbformat_minor": 0,
  "metadata": {
    "colab": {
      "name": "BASIC_Python_for_Numerical_Analysis.ipynb",
      "provenance": [],
      "include_colab_link": true
    },
    "kernelspec": {
      "name": "python3",
      "display_name": "Python 3"
    }
  },
  "cells": [
    {
      "cell_type": "markdown",
      "metadata": {
        "id": "view-in-github",
        "colab_type": "text"
      },
      "source": [
        "<a href=\"https://colab.research.google.com/github/domeano/Thermo-and-Fluid-Engineering-Lab/blob/master/2020/BASIC_Python_for_Numerical_Analysis_2.ipynb\" target=\"_parent\"><img src=\"https://colab.research.google.com/assets/colab-badge.svg\" alt=\"Open In Colab\"/></a>"
      ]
    },
    {
      "cell_type": "markdown",
      "metadata": {
        "id": "C2GK8j0lFUcZ",
        "colab_type": "text"
      },
      "source": [
        "# Python을 활용한 수치해법"
      ]
    },
    {
      "cell_type": "markdown",
      "metadata": {
        "id": "6_gwK7GWFW3-",
        "colab_type": "text"
      },
      "source": [
        "## Python에서의 기본 데이터 형식"
      ]
    },
    {
      "cell_type": "markdown",
      "metadata": {
        "id": "DGqAmzmHFYWe",
        "colab_type": "text"
      },
      "source": [
        "* C언어와는 다르게, Python에서는 변수를 선언하면서 자료형을 명시할 필요가 없음.\n",
        "* 예를 들어, C언어에서 for문을 통해 등차수열의 합을 구하는 코드는 아래와 같음.\n",
        "```\n",
        "/* C Code */ \n",
        "int result = 0;\n",
        "for( int i = 1 ; i < 51 ; i++)\n",
        "{\n",
        "    result += i;\n",
        "}\n",
        "```\n"
      ]
    },
    {
      "cell_type": "markdown",
      "metadata": {
        "id": "M5o9KT-0Faow",
        "colab_type": "text"
      },
      "source": [
        "* Python에서 for문을 통해 등차수열의 합을 구하는 코드는 아래와 같음."
      ]
    },
    {
      "cell_type": "code",
      "metadata": {
        "id": "8hD6d6NnFHxq",
        "colab_type": "code",
        "colab": {}
      },
      "source": [
        "# Python Code\n",
        "result = 0\n",
        "for i in range(1, 51):\n",
        "    result += i"
      ],
      "execution_count": null,
      "outputs": []
    },
    {
      "cell_type": "markdown",
      "metadata": {
        "id": "QDDsipjbFdbE",
        "colab_type": "text"
      },
      "source": [
        "* C언어에서는 변수를 선언하면서 자료형을 명시하기 때문에 한번 선언한 변수의 자료형을 바꿀 수 없음\n",
        "* 그러나 Python에서는 변수의 자료형을 바꾸는 것이 가능함"
      ]
    },
    {
      "cell_type": "code",
      "metadata": {
        "id": "NknF1SbhFUzn",
        "colab_type": "code",
        "colab": {}
      },
      "source": [
        "var_A = \"Python\"\n",
        "print(var_A, type(var_A))\n",
        "var_A = 22200114\n",
        "print(var_A, type(var_A))\n",
        "var_A /= 2020\n",
        "print(var_A, type(var_A))"
      ],
      "execution_count": null,
      "outputs": []
    },
    {
      "cell_type": "markdown",
      "metadata": {
        "id": "BfIFQqqqFubt",
        "colab_type": "text"
      },
      "source": [
        "* 리스트\n",
        " * C++에서의 std::vector와 유사함\n",
        " * 단 C++에서의 std::vector는 vector 내에 들어가는 데이터 형을 지정해서 초기화하지만 Python에서는 하나의 리스트 내에 다양한 데이터 형을 넣을 수 있음"
      ]
    },
    {
      "cell_type": "code",
      "metadata": {
        "id": "I2LLDOC1FfeR",
        "colab_type": "code",
        "colab": {}
      },
      "source": [
        "list_A = list(range(10))\n",
        "print(list_A)"
      ],
      "execution_count": null,
      "outputs": []
    },
    {
      "cell_type": "code",
      "metadata": {
        "id": "gyhEiWHXFvgw",
        "colab_type": "code",
        "colab": {}
      },
      "source": [
        "print(type(list_A))\n",
        "print(type(list_A[0]))"
      ],
      "execution_count": null,
      "outputs": []
    },
    {
      "cell_type": "code",
      "metadata": {
        "id": "7jcgJer2FzFw",
        "colab_type": "code",
        "colab": {}
      },
      "source": [
        "list_B = [str(var_A) for var_A in list_A]\n",
        "print(list_B)\n",
        "print(type(list_B))\n",
        "print(type(list_B[0]))"
      ],
      "execution_count": null,
      "outputs": []
    },
    {
      "cell_type": "code",
      "metadata": {
        "id": "X08gIGGfF0Ft",
        "colab_type": "code",
        "colab": {}
      },
      "source": [
        "list_C = [True, '2', 3.0, 4]\n",
        "print([type(var_C) for var_C in list_C])"
      ],
      "execution_count": null,
      "outputs": []
    },
    {
      "cell_type": "markdown",
      "metadata": {
        "id": "Kfh8cVBiFx8U",
        "colab_type": "text"
      },
      "source": [
        "* Array\n",
        " * Python에서 제공하는 내부 데이터 형식을 고정하는 자료형"
      ]
    },
    {
      "cell_type": "code",
      "metadata": {
        "id": "Zzx4adyDF5_9",
        "colab_type": "code",
        "colab": {}
      },
      "source": [
        "import array\n",
        "list_A = list(range(10))\n",
        "array_A = array.array('i', list_A) # 여기서 i는 정수 자료형임을 의미\n",
        "print(array_A)"
      ],
      "execution_count": null,
      "outputs": []
    },
    {
      "cell_type": "markdown",
      "metadata": {
        "id": "vii-HlIZrM4K",
        "colab_type": "text"
      },
      "source": [
        "###이분법\n",
        "\n",
        "구간 x1과 x2 사이에 방정식의 근이 있을 때, 이분법으로 방정식의 근을 구하는 알고리즘\n",
        "\n",
        "\n",
        "![250px-Bisection_method.png](data:image/png;base64,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)\n",
        "\n",
        "\n",
        "```\n",
        "f1 = f(x1)\n",
        "f2 = f(x2)\n",
        "Do While |(x3_new - x3_old) / x3_new|  >  error\n",
        "    x3 = (x1 + x2)/2\n",
        "    f3 = f(x3)\n",
        "    if (f1 * f3 < 0)\n",
        "        x2 = x3\n",
        "        f2 = f3\n",
        "    else\n",
        "        x1 = x3\n",
        "        f1 = f3\n",
        "    Endif\n",
        "EndDo\n",
        "```\n",
        "\n"
      ]
    },
    {
      "cell_type": "markdown",
      "metadata": {
        "id": "R_LpYZjbvs-R",
        "colab_type": "text"
      },
      "source": [
        "![bisection_graph.png](data:image/png;base64,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)"
      ]
    },
    {
      "cell_type": "code",
      "metadata": {
        "id": "e1rk0vZ0rMcT",
        "colab_type": "code",
        "colab": {
          "base_uri": "https://localhost:8080/",
          "height": 251
        },
        "outputId": "61ce9ec4-48eb-4e0b-df93-0e992e2fcc74"
      },
      "source": [
        "\n",
        "# f(x) 함수 선언\n",
        "def f(x):\n",
        "  return 3*(x**2) + 2*(x) - 3\n",
        "\n",
        "\n",
        "# 변수 초기화\n",
        "x1 = 0\n",
        "x2 = 1\n",
        "e = 0.001 # 허용오차 한계\n",
        "count = 0\n",
        "f1 = f(x1)\n",
        "f2 = f(x2)\n",
        "x3_old = f2\n",
        "while True:\n",
        "  \n",
        "  x3 = (x1+x2)/2\n",
        "  f3 = f(x3)\n",
        "  if (f1*f3) < 0:\n",
        "    x2 = x3\n",
        "    f2 = f3\n",
        "  else:\n",
        "    x1 = x3\n",
        "    f1 = f3\n",
        "  \n",
        "  count += 1\n",
        "  error = abs((x3 - x3_old) / x3)\n",
        "  print(\"반복횟수 : {0}, x1 : {1}, x2 : {2}, error: {3}\".format(count, x1, x2, error))\n",
        "  x3_old = x3\n",
        "  if error < e:\n",
        "    break\n",
        "\n",
        "print(\"반복횟수 : \", count)\n",
        "print(\"방정식의 해 : \", x3)"
      ],
      "execution_count": 3,
      "outputs": [
        {
          "output_type": "stream",
          "text": [
            "반복횟수 : 1, x1 : 0.5, x2 : 1, error: 3.0\n",
            "반복횟수 : 2, x1 : 0.5, x2 : 0.75, error: 0.3333333333333333\n",
            "반복횟수 : 3, x1 : 0.625, x2 : 0.75, error: 0.2\n",
            "반복횟수 : 4, x1 : 0.6875, x2 : 0.75, error: 0.09090909090909091\n",
            "반복횟수 : 5, x1 : 0.71875, x2 : 0.75, error: 0.043478260869565216\n",
            "반복횟수 : 6, x1 : 0.71875, x2 : 0.734375, error: 0.02127659574468085\n",
            "반복횟수 : 7, x1 : 0.71875, x2 : 0.7265625, error: 0.010752688172043012\n",
            "반복횟수 : 8, x1 : 0.71875, x2 : 0.72265625, error: 0.005405405405405406\n",
            "반복횟수 : 9, x1 : 0.720703125, x2 : 0.72265625, error: 0.0027100271002710027\n",
            "반복횟수 : 10, x1 : 0.720703125, x2 : 0.7216796875, error: 0.0013531799729364006\n",
            "반복횟수 : 11, x1 : 0.720703125, x2 : 0.72119140625, error: 0.0006770480704129993\n",
            "반복횟수 :  11\n",
            "방정식의 해 :  0.72119140625\n"
          ],
          "name": "stdout"
        }
      ]
    },
    {
      "cell_type": "markdown",
      "metadata": {
        "id": "pp86e8abzxZ1",
        "colab_type": "text"
      },
      "source": [
        "###Newton Method\n",
        "\n",
        "![newton_method.png](data:image/png;base64,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)\n",
        "\n",
        "Newton Method 알고리즘\n",
        "\n",
        "\n",
        "```\n",
        "Do While |(x_k+1 - x_k) / x_k+1|  >  error\n",
        "    x_k+1 = x_k - f_k/f_k_prime\n",
        "\n",
        "    x_k = x_k+1\n",
        "EndDo\n",
        "```"
      ]
    },
    {
      "cell_type": "markdown",
      "metadata": {
        "id": "bbbR6WbY1ydv",
        "colab_type": "text"
      },
      "source": [
        "### Homework\n",
        "\n",
        "Newton Method를 이용하여 3x^2 + 2x - 3 = 0 방정식의 x=0 근방에서의 해를 구하는 코드를 작성하시오."
      ]
    },
    {
      "cell_type": "code",
      "metadata": {
        "id": "iF0vnqaZ2MXj",
        "colab_type": "code",
        "colab": {}
      },
      "source": [
        ""
      ],
      "execution_count": null,
      "outputs": []
    }
  ]
}
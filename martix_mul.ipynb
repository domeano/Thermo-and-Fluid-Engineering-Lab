{
  "nbformat": 4,
  "nbformat_minor": 0,
  "metadata": {
    "colab": {
      "name": "martix_mul.ipynb",
      "provenance": [],
      "authorship_tag": "ABX9TyOuk3CbrBa1vW6B7l1PFogo",
      "include_colab_link": true
    },
    "kernelspec": {
      "name": "python3",
      "display_name": "Python 3"
    }
  },
  "cells": [
    {
      "cell_type": "markdown",
      "metadata": {
        "id": "view-in-github",
        "colab_type": "text"
      },
      "source": [
        "<a href=\"https://colab.research.google.com/github/domeano/Thermo-and-Fluid-Engineering-Lab/blob/master/martix_mul.ipynb\" target=\"_parent\"><img src=\"https://colab.research.google.com/assets/colab-badge.svg\" alt=\"Open In Colab\"/></a>"
      ]
    },
    {
      "cell_type": "code",
      "metadata": {
        "colab": {
          "base_uri": "https://localhost:8080/"
        },
        "id": "HX2puvPqBAv3",
        "outputId": "24f1379d-5cf0-499d-fd08-dbed9107cb59"
      },
      "source": [
        "%%writefile matrix_mul.cu\r\n",
        "#include<stdio.h>\r\n",
        "#include<math.h>\r\n",
        "#include<stdlib.h>\r\n",
        "\r\n",
        "void matrix_mul_cpu(int* A, int* B, int* result, int N)\r\n",
        "{\r\n",
        "    for(int i=0;i<N;i++)\r\n",
        "    {\r\n",
        "        for(int j=0;j<N;j++)\r\n",
        "        {\r\n",
        "            int sum = 0.0;\r\n",
        "            for (int h = 0; h < N; ++h) \r\n",
        "            {\r\n",
        "                sum += A[i * N + h] * B[h * N + j];\r\n",
        "            }\r\n",
        "            result[i * N + j] = sum;\r\n",
        "        }\r\n",
        "    }\r\n",
        "}\r\n",
        "\r\n",
        "void Init(int* A, int* B, int* result, int N)\r\n",
        "{\r\n",
        "\tfor (int i = 0; i < N; i++)\r\n",
        "  {\r\n",
        "      for(int j=0;j<N;j++)\r\n",
        "      {\r\n",
        "          A[i*N + j]=1;\r\n",
        "          B[i*N + j]=1;\r\n",
        "          result[i*N + j]=0;\r\n",
        "      }\r\n",
        "  }\r\n",
        "}\r\n",
        "\r\n",
        "int main()\r\n",
        "{\r\n",
        "    int N = 3;\r\n",
        "    int *A, *B, *result;\r\n",
        "    double start,end;\r\n",
        "    const int size = (N*N) * sizeof(int);\r\n",
        " \r\n",
        "    A = (int*)malloc(size);\r\n",
        "    B = (int*)malloc(size);\r\n",
        "    result = (int*)malloc(size);\r\n",
        "\r\n",
        "    Init(A,B,result,N);\r\n",
        "    start = time(NULL);\r\n",
        "    matrix_mul_cpu(A,B,result,N);\r\n",
        "    end = time(NULL);\r\n",
        "    printf(\"cpu matrix mul 소요시간 : %f초\\n\", end-start);\r\n",
        "    \r\n",
        "    for (int i = 0; i < N; i++)\r\n",
        "    {\r\n",
        "        for(int j=0;j<N;j++)\r\n",
        "        {\r\n",
        "            printf(\"%d   \", result[i*N + j]);\r\n",
        "        }\r\n",
        "      printf(\"\\n\");\r\n",
        "    }\r\n",
        "\r\n",
        "    free(A);\r\n",
        "    free(B);\r\n",
        "    free(result);\r\n",
        "    return 0;\r\n",
        "}"
      ],
      "execution_count": 4,
      "outputs": [
        {
          "output_type": "stream",
          "text": [
            "Overwriting matrix_mul.cu\n"
          ],
          "name": "stdout"
        }
      ]
    },
    {
      "cell_type": "code",
      "metadata": {
        "colab": {
          "base_uri": "https://localhost:8080/"
        },
        "id": "FAC9gs67Bq1J",
        "outputId": "2fa0dbe1-ff09-41c6-adc6-da254e95e38a"
      },
      "source": [
        "!nvcc -o matrix_mul matrix_mul.cu -run"
      ],
      "execution_count": 5,
      "outputs": [
        {
          "output_type": "stream",
          "text": [
            "cpu matrix mul 소요시간 : 0.000000초\n",
            "3   3   3   \n",
            "3   3   3   \n",
            "3   3   3   \n"
          ],
          "name": "stdout"
        }
      ]
    }
  ]
}
{
  "nbformat": 4,
  "nbformat_minor": 0,
  "metadata": {
    "colab": {
      "name": "HW_4.ipynb",
      "provenance": [],
      "include_colab_link": true
    },
    "kernelspec": {
      "name": "python3",
      "display_name": "Python 3"
    },
    "accelerator": "GPU"
  },
  "cells": [
    {
      "cell_type": "markdown",
      "metadata": {
        "id": "view-in-github",
        "colab_type": "text"
      },
      "source": [
        "<a href=\"https://colab.research.google.com/github/domeano/Thermo-and-Fluid-Engineering-Lab/blob/master/HW_4.ipynb\" target=\"_parent\"><img src=\"https://colab.research.google.com/assets/colab-badge.svg\" alt=\"Open In Colab\"/></a>"
      ]
    },
    {
      "cell_type": "markdown",
      "metadata": {
        "id": "jAMjYxcoLqoe",
        "colab_type": "text"
      },
      "source": [
        "# ax+b를 계산하시오\n",
        "\n",
        "* a=2, b=3을 사용\n",
        "\n",
        "* x는 numpy linspace 함수를 활용해 0부터 10까지 100개의 구간과 100000개의 구간으로 나누어서 사용\n",
        "\n",
        "* numpy 연산, numba.jit, vectorize( target='parallel') vectorize( target='cuda)를 각각 사용해 시간을 비교할 것 (총 8개)\n",
        "\n",
        "* 런타임 -> 런타임 유형변경 -> 하드웨어 가속기를 GPU로 변경하고 사용할것\n",
        "\n",
        "* 시간비교는 %timeit 사용"
      ]
    },
    {
      "cell_type": "code",
      "metadata": {
        "id": "RrBh95esL83s",
        "colab_type": "code",
        "colab": {}
      },
      "source": [
        "import math\n",
        "import numpy as np\n",
        "import matplotlib.pyplot as plt\n",
        "import numba\n",
        "from numba import vectorize, float32, cuda"
      ],
      "execution_count": null,
      "outputs": []
    },
    {
      "cell_type": "code",
      "metadata": {
        "id": "H0xVtgBiL_uq",
        "colab_type": "code",
        "colab": {}
      },
      "source": [
        "!find / -iname 'libdevice'\n",
        "!find / -iname 'libnvvm.so'"
      ],
      "execution_count": null,
      "outputs": []
    },
    {
      "cell_type": "code",
      "metadata": {
        "id": "Dml_eb0aMBA4",
        "colab_type": "code",
        "colab": {}
      },
      "source": [
        "import os\n",
        "##################################### TO DO ###########################################\n",
        "\n",
        "####################################### end ###########################################"
      ],
      "execution_count": null,
      "outputs": []
    },
    {
      "cell_type": "code",
      "metadata": {
        "id": "uiLt35CgOng2",
        "colab_type": "code",
        "colab": {}
      },
      "source": [
        "\n",
        "def calculate_numpy(x):\n",
        "  return x*2 + 3\n",
        "\n",
        "##################################### TO DO ###########################################\n",
        "\n",
        "####################################### end ###########################################\n",
        "def calculate_jit(x):\n",
        "  return x*2 + 3\n",
        "\n",
        "\n",
        "##################################### TO DO ###########################################\n",
        "\n",
        "####################################### end ###########################################\n",
        "def calculate_parallel(x):\n",
        "  return x*2 + 3\n",
        "\n",
        "\n",
        "##################################### TO DO ###########################################\n",
        "\n",
        "####################################### end ###########################################\n",
        "def calculate_cuda(x):\n",
        "  return x*2 + 3"
      ],
      "execution_count": null,
      "outputs": []
    },
    {
      "cell_type": "markdown",
      "metadata": {
        "id": "FKyUvDcvNaDD",
        "colab_type": "text"
      },
      "source": [
        "# x를 0부터 10까지 100개의 구간으로 나누었을 경우\n",
        "(dytpe = np.float32 사용)"
      ]
    },
    {
      "cell_type": "code",
      "metadata": {
        "id": "y52u_J-MNU-6",
        "colab_type": "code",
        "colab": {}
      },
      "source": [
        "##################################### TO DO ###########################################\n",
        "\n",
        "####################################### end ###########################################"
      ],
      "execution_count": null,
      "outputs": []
    },
    {
      "cell_type": "code",
      "metadata": {
        "id": "lS1Dgz0nOCvq",
        "colab_type": "code",
        "colab": {}
      },
      "source": [
        "%timeit calculate_numpy(x)"
      ],
      "execution_count": null,
      "outputs": []
    },
    {
      "cell_type": "code",
      "metadata": {
        "id": "aD8kYW_QP5gO",
        "colab_type": "code",
        "colab": {}
      },
      "source": [
        "%timeit calculate_jit(x)"
      ],
      "execution_count": null,
      "outputs": []
    },
    {
      "cell_type": "code",
      "metadata": {
        "id": "PvsbArV0P7V0",
        "colab_type": "code",
        "colab": {}
      },
      "source": [
        "%timeit calculate_parallel(x)"
      ],
      "execution_count": null,
      "outputs": []
    },
    {
      "cell_type": "code",
      "metadata": {
        "id": "RR9A2xqoP8Id",
        "colab_type": "code",
        "colab": {}
      },
      "source": [
        "##################################### TO DO ###########################################\n",
        "# CPU 메모리에 있는 x를 GPU로 복사\n",
        "\n",
        "####################################### end ###########################################\n",
        "%timeit calculate_cuda(x_device)"
      ],
      "execution_count": null,
      "outputs": []
    },
    {
      "cell_type": "markdown",
      "metadata": {
        "id": "EShFPu3EN590",
        "colab_type": "text"
      },
      "source": [
        "# x를 0부터 10까지 100000000개의 구간으로 나누었을 경우\n",
        "(dytpe = np.float32 사용)"
      ]
    },
    {
      "cell_type": "code",
      "metadata": {
        "id": "VVMJqnYFN1FS",
        "colab_type": "code",
        "colab": {}
      },
      "source": [
        "##################################### TO DO ###########################################\n",
        "\n",
        "####################################### end ###########################################"
      ],
      "execution_count": null,
      "outputs": []
    },
    {
      "cell_type": "code",
      "metadata": {
        "id": "V0k50hvrQPBE",
        "colab_type": "code",
        "colab": {}
      },
      "source": [
        "%timeit calculate_numpy(x)"
      ],
      "execution_count": null,
      "outputs": []
    },
    {
      "cell_type": "code",
      "metadata": {
        "id": "rGRGqgkfQQEj",
        "colab_type": "code",
        "colab": {}
      },
      "source": [
        "%timeit calculate_jit(x)"
      ],
      "execution_count": null,
      "outputs": []
    },
    {
      "cell_type": "code",
      "metadata": {
        "id": "NFsHRHk6QUnz",
        "colab_type": "code",
        "colab": {}
      },
      "source": [
        "%timeit calculate_parallel(x)"
      ],
      "execution_count": null,
      "outputs": []
    },
    {
      "cell_type": "code",
      "metadata": {
        "id": "yOXAGfEaQV46",
        "colab_type": "code",
        "colab": {}
      },
      "source": [
        "##################################### TO DO ###########################################\n",
        "# CPU 메모리에 있는 x를 GPU로 복사\n",
        "\n",
        "####################################### end ###########################################\n",
        "%timeit calculate_cuda(x_device)"
      ],
      "execution_count": null,
      "outputs": []
    },
    {
      "cell_type": "code",
      "metadata": {
        "id": "NH4Z35uime2L",
        "colab_type": "code",
        "colab": {}
      },
      "source": [
        ""
      ],
      "execution_count": null,
      "outputs": []
    }
  ]
}